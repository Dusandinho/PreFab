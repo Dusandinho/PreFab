{
 "cells": [
  {
   "cell_type": "markdown",
   "metadata": {},
   "source": [
    "This notebook is an example of a prediction of an inverse-designed three-channel MDM (de)multiplexer by [Masnad et al.](https://doi.org/10.1364/PSC.2021.Tu4A.4) Recall that the current prediction model is for a 220 nm SOI e-beam process. This example demonstrates:\n",
    "1. Loading a prediction model\n",
    "2. Preparing a device gds for prediction\n",
    "3. Running a prediction\n",
    "4. Analyzing a prediction"
   ]
  },
  {
   "cell_type": "code",
   "execution_count": null,
   "metadata": {},
   "outputs": [],
   "source": [
    "import matplotlib.pyplot as plt\n",
    "\n",
    "import sys\n",
    "sys.path.append('../')\n",
    "\n",
    "from fabmodel.predictor import Predictor\n",
    "from fabmodel.processor import *\n",
    "from fabmodel.io import *\n",
    "\n",
    "%load_ext autoreload\n",
    "%autoreload 2\n",
    "%matplotlib inline"
   ]
  },
  {
   "cell_type": "markdown",
   "metadata": {},
   "source": [
    "First, let's load the predictor model in. Models are named (and loaded) by specifying the type ('p' for predictor), the fab facility, the process name, the version of the model, and the number of the model. Multiple model numbers can be loaded at the same time to create an ensemble that produces more accurate predictions."
   ]
  },
  {
   "cell_type": "code",
   "execution_count": null,
   "metadata": {},
   "outputs": [],
   "source": [
    "predictor = Predictor(type='p', fab='ANT', process='NanoSOI', version='v0.1', model_nums=[0,1,2,3])"
   ]
  },
  {
   "cell_type": "markdown",
   "metadata": {},
   "source": [
    "Second, we load a device layout (.gds) in as a matrix with values between 0 and 1. An inverse-designed (de)multiplexer is used here, but you can try the other devices in the `/devices` folder, or add your own!\n",
    "\n",
    "We must specify the resolution of the images that the model was trained on (in nm/px), the length of the image slicing used in training (in px), and the length of the device loaded in (in nm)."
   ]
  },
  {
   "cell_type": "code",
   "execution_count": null,
   "metadata": {},
   "outputs": [],
   "source": [
    "res = 1.6548 # nm/px\n",
    "slice_length = 128 # px\n",
    "device_length = 4500 # nm\n",
    "\n",
    "device = load_device_gds(path='../devices/demux.gds', cell_name='demux',\n",
    "    slice_length=slice_length, device_length=device_length, res=res)\n",
    "    \n",
    "plt.imshow(device)\n",
    "plt.title('Nominal Device')\n",
    "plt.ylabel('Distance (px)')\n",
    "plt.xlabel('Distance (px)')\n",
    "plt.show()"
   ]
  },
  {
   "cell_type": "markdown",
   "metadata": {},
   "source": [
    "Third, we're ready to make the prediction. We must specify the step length, which determines how fine the prediction is. A small step length will produce nice predictions, but may require significant memory resources for large devices.\n",
    "\n",
    "We should also specify if we want a binarized output. By default, the predictor outputs the raw prediction, which shows the \"fuzzy\" areas of the structure that will vary from fab to fab, device to device. If we choose to binarize, the predictor will output the most likely outcome. We can also binarize after the prediction so we have both to view."
   ]
  },
  {
   "cell_type": "code",
   "execution_count": null,
   "metadata": {},
   "outputs": [],
   "source": [
    "step_length = 32\n",
    "prediction = predictor.predict(device=device, step_length=step_length, binary=False)\n",
    "\n",
    "plt.imshow(prediction)\n",
    "plt.title('Predicted Device')\n",
    "plt.ylabel('Distance (px)')\n",
    "plt.xlabel('Distance (px)')\n",
    "plt.show()\n",
    "\n",
    "plt.imshow(binarize(prediction))\n",
    "plt.title('Predicted Device (Most Likely)')\n",
    "plt.ylabel('Distance (px)')\n",
    "plt.xlabel('Distance (px)')\n",
    "plt.show()"
   ]
  },
  {
   "cell_type": "markdown",
   "metadata": {},
   "source": [
    "Lastly, let's do some analysis of the prediction we just made. The first analysis we'll do is to plot the possible variations between the nominal device and the prediction. From this plot, we see that the ridges of the device are highly likely to be rounded, with some degree of uncertainty as to where exactly the edges will be (no process is perfect!)."
   ]
  },
  {
   "cell_type": "code",
   "execution_count": null,
   "metadata": {},
   "outputs": [],
   "source": [
    "variation = device - prediction\n",
    "\n",
    "plt.imshow(variation[1000:1500, 1000:1500], cmap='jet', vmin=-1, vmax=1)\n",
    "plt.title('Variation Likeliness (Zoomed)')\n",
    "plt.ylabel('Distance (px)')\n",
    "plt.xlabel('Distance (px)')\n",
    "cb = plt.colorbar()\n",
    "cb.set_label('Under-Etch              Over-Etch')\n",
    "plt.show()"
   ]
  },
  {
   "cell_type": "markdown",
   "metadata": {},
   "source": [
    "Another way we can represent these results is to highlight where the edge is most likely to be (i.e., where the predictor is most uncertain on if the pixel is silicon or silica). The bright line of this plot is where the edge is most likely to be, but in reality, there is a range of possible locations. For finer features (e.g., the narrow channel in the plot below at x = 200, y = 170), we see that uncertainty is increased and the range of possible edge positions is larger! This channel may be bridged for some runs and remain open for others. This is a sign that we want to avoid using these types of features for our device if possible."
   ]
  },
  {
   "cell_type": "code",
   "execution_count": null,
   "metadata": {},
   "outputs": [],
   "source": [
    "uncertainty = 1 - 2*np.abs(0.5 - prediction)\n",
    "\n",
    "plt.imshow(uncertainty[1700:2000, 1700:2000])\n",
    "plt.title('Edge Likeliness (Zoomed)')\n",
    "plt.ylabel('Distance (px)')\n",
    "plt.xlabel('Distance (px)')\n",
    "plt.show()"
   ]
  },
  {
   "cell_type": "markdown",
   "metadata": {},
   "source": [
    "And that's it! From here, you can take the prediction and simulate the expected performance or try to make corrections to your design to minimize variation and uncertainty.\n",
    "\n",
    "We can now export the prediction to `/gds/fabmodel_example_demux.gds`."
   ]
  },
  {
   "cell_type": "code",
   "execution_count": null,
   "metadata": {},
   "outputs": [],
   "source": [
    "lib = gdspy.GdsLibrary()\n",
    "gdspy.current_library = gdspy.GdsLibrary()\n",
    "\n",
    "device_name = 'demux'\n",
    "cell = lib.new_cell(device_name)\n",
    "cell.add(dev2cell(library=lib, device=device, res=res, cell_name=device_name+'_nominal'))\n",
    "cell.add(dev2cell(library=lib, device=binarize(prediction), res=res, cell_name=device_name+'_prediction', layer=9))\n",
    "lib.write_gds('../gds/fabmodel_example_demux.gds')"
   ]
  },
  {
   "cell_type": "markdown",
   "metadata": {},
   "source": []
  }
 ],
 "metadata": {
  "kernelspec": {
   "display_name": "Python 3.9.13 ('fabmodel')",
   "language": "python",
   "name": "python3"
  },
  "language_info": {
   "codemirror_mode": {
    "name": "ipython",
    "version": 3
   },
   "file_extension": ".py",
   "mimetype": "text/x-python",
   "name": "python",
   "nbconvert_exporter": "python",
   "pygments_lexer": "ipython3",
   "version": "3.9.13"
  },
  "vscode": {
   "interpreter": {
    "hash": "c4cc09ad76227ffea490f675b7b6b3201a66c3f660e1d9d7a64347d5d38eebcb"
   }
  }
 },
 "nbformat": 4,
 "nbformat_minor": 2
}
